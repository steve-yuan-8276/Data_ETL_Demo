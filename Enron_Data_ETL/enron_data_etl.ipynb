{
 "cells": [
  {
   "metadata": {},
   "cell_type": "markdown",
   "source": "# Enron Data ETL",
   "id": "71a1747514c318f8"
  },
  {
   "metadata": {
    "ExecuteTime": {
     "end_time": "2024-07-22T23:13:15.959042Z",
     "start_time": "2024-07-22T23:13:15.954512Z"
    }
   },
   "cell_type": "code",
   "source": [
    "# Dependencies\n",
    "from sqlalchemy.sql import func\n",
    "from typing import List\n",
    "from sqlalchemy.orm import relationship, sessionmaker, Mapped, mapped_column\n",
    "from sqlalchemy import create_engine, func, and_, or_, MetaData, Table, Column, Integer, String, text, desc\n",
    "from sqlalchemy.ext.declarative import declarative_base\n",
    "from sqlalchemy.exc import SQLAlchemyError\n",
    "from config import user_name, user_password\n",
    "import datetime as dt\n",
    "import pandas as pd\n",
    "import matplotlib.pyplot as plt\n",
    "import seaborn as sns\n",
    "import urllib.parse\n",
    "\n",
    "from warnings import filterwarnings\n",
    "filterwarnings('ignore')"
   ],
   "id": "e57ab615acb9fdcf",
   "outputs": [],
   "execution_count": 18
  },
  {
   "metadata": {
    "ExecuteTime": {
     "end_time": "2024-07-22T23:13:18.168323Z",
     "start_time": "2024-07-22T23:13:18.164930Z"
    }
   },
   "cell_type": "code",
   "source": [
    "encoded_password = urllib.parse.quote_plus(user_password)\n",
    "print(encoded_password)  # 输出: ifeng%408276"
   ],
   "id": "85eec1cbf06837df",
   "outputs": [
    {
     "name": "stdout",
     "output_type": "stream",
     "text": [
      "ifeng%408276\n"
     ]
    }
   ],
   "execution_count": 19
  },
  {
   "metadata": {
    "ExecuteTime": {
     "end_time": "2024-07-22T23:13:20.771611Z",
     "start_time": "2024-07-22T23:13:20.763146Z"
    }
   },
   "cell_type": "code",
   "source": [
    "# Connect mysql DB with Sqlalchemy orm\n",
    "host = 'localhost'\n",
    "port = 3306\n",
    "database = 'Enron_DB'\n",
    "\n",
    "try:\n",
    "    engine = create_engine(f'mysql+pymysql://{user_name}:{encoded_password}@{host}:{port}/{database}')\n",
    "    connection = engine.connect()\n",
    "    print(\"Connection successful\")\n",
    "    connection.close()\n",
    "except SQLAlchemyError as e:\n",
    "    print(f\"Connection fail: {e}\")"
   ],
   "id": "ff3e231c3cd51dd5",
   "outputs": [
    {
     "name": "stdout",
     "output_type": "stream",
     "text": [
      "Connection successful\n"
     ]
    }
   ],
   "execution_count": 20
  },
  {
   "metadata": {
    "ExecuteTime": {
     "end_time": "2024-07-22T23:13:24.377927Z",
     "start_time": "2024-07-22T23:13:24.374265Z"
    }
   },
   "cell_type": "code",
   "source": [
    "Base = declarative_base()\n",
    "Session = sessionmaker(bind=engine)\n",
    "session = Session()"
   ],
   "id": "fb82d6e5c5375b83",
   "outputs": [],
   "execution_count": 21
  },
  {
   "metadata": {
    "ExecuteTime": {
     "end_time": "2024-07-22T23:13:28.943721Z",
     "start_time": "2024-07-22T23:13:28.915121Z"
    }
   },
   "cell_type": "code",
   "source": [
    "# Crate metadata object\n",
    "metadata = MetaData()\n",
    "# Reflect all table in the database\n",
    "metadata.reflect(bind=engine)\n",
    "\n",
    "# display the all table name\n",
    "for table_name in metadata.tables.keys():\n",
    "    print(table_name)"
   ],
   "id": "8c81b125c5bf48c6",
   "outputs": [
    {
     "name": "stdout",
     "output_type": "stream",
     "text": [
      "employeelist\n",
      "message\n",
      "recipientinfo\n",
      "referenceinfo\n"
     ]
    }
   ],
   "execution_count": 22
  },
  {
   "metadata": {
    "ExecuteTime": {
     "end_time": "2024-07-22T23:17:05.541191Z",
     "start_time": "2024-07-22T23:17:05.538245Z"
    }
   },
   "cell_type": "code",
   "source": [
    "# Query employee_abc \n",
    "message = Table('message', metadata, autoload=True, autoload_with=engine)\n",
    "for cols in message.columns:\n",
    "    print(cols.name)"
   ],
   "id": "2770cb9a1493f915",
   "outputs": [
    {
     "name": "stdout",
     "output_type": "stream",
     "text": [
      "mid\n",
      "sender\n",
      "date\n",
      "message_id\n",
      "subject\n",
      "body\n",
      "folder\n"
     ]
    }
   ],
   "execution_count": 23
  },
  {
   "metadata": {},
   "cell_type": "code",
   "outputs": [],
   "execution_count": null,
   "source": [
    "# query time, cnt_letter from 1999 to 2022\n",
    "results = (\n",
    "    session.query(\n",
    "        message.date,\n",
    "        func.count(message.mid).label('Msg_CNT')\n",
    "    )\n",
    "    .filter(message.date.between(dt.date(1998, 1, 1), dt.date(2002, 12, 31))\n",
    "    # .filter(extract('year', message.date).between(1998, 2002)) \n",
    "    .group_by(message.date)\n",
    "    .order_by(message.date)\n",
    "    .all()\n",
    ")\n",
    "\n",
    "letter_data = pd.DataFrame(results, columns=['date', 'Msg_CNT'])"
   ],
   "id": "41e7cbde31dbccb2"
  }
 ],
 "metadata": {
  "kernelspec": {
   "display_name": "Python 3",
   "language": "python",
   "name": "python3"
  },
  "language_info": {
   "codemirror_mode": {
    "name": "ipython",
    "version": 2
   },
   "file_extension": ".py",
   "mimetype": "text/x-python",
   "name": "python",
   "nbconvert_exporter": "python",
   "pygments_lexer": "ipython2",
   "version": "2.7.6"
  }
 },
 "nbformat": 4,
 "nbformat_minor": 5
}
